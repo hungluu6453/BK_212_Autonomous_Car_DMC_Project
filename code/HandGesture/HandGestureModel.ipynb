{
 "cells": [
  {
   "cell_type": "code",
   "execution_count": 93,
   "metadata": {},
   "outputs": [],
   "source": [
    "import csv\n",
    "\n",
    "import numpy as np\n",
    "import tensorflow as tf\n",
    "from sklearn.model_selection import train_test_split\n",
    "\n",
    "RANDOM_SEED = 42"
   ]
  },
  {
   "cell_type": "code",
   "execution_count": 94,
   "metadata": {},
   "outputs": [],
   "source": [
    "dataset = 'gen_data/landmark.csv'\n",
    "model_save_path = 'gen_model/landmark.hdf5'"
   ]
  },
  {
   "cell_type": "code",
   "execution_count": 95,
   "metadata": {},
   "outputs": [],
   "source": [
    "NUM_CLASSES = 9"
   ]
  },
  {
   "cell_type": "code",
   "execution_count": 96,
   "metadata": {},
   "outputs": [],
   "source": [
    "X_dataset = np.loadtxt(dataset, delimiter=',', dtype='float32', usecols=list(range(1, (21 * 2) + 1)))"
   ]
  },
  {
   "cell_type": "code",
   "execution_count": 97,
   "metadata": {},
   "outputs": [],
   "source": [
    "y_dataset = np.loadtxt(dataset, delimiter=',', dtype='int32', usecols=(0))"
   ]
  },
  {
   "cell_type": "code",
   "execution_count": 98,
   "metadata": {},
   "outputs": [],
   "source": [
    "X_train, X_test, y_train, y_test = train_test_split(X_dataset, y_dataset, train_size=0.75, random_state=RANDOM_SEED)"
   ]
  },
  {
   "cell_type": "code",
   "execution_count": 99,
   "metadata": {},
   "outputs": [],
   "source": [
    "model = tf.keras.models.Sequential([\n",
    "    tf.keras.layers.Input((21 * 2, )),\n",
    "    tf.keras.layers.Dropout(0.2),\n",
    "    tf.keras.layers.Dense(40, activation='relu'),\n",
    "    tf.keras.layers.Dropout(0.4),\n",
    "    tf.keras.layers.Dense(20, activation='relu'),\n",
    "    tf.keras.layers.Dropout(0.4),\n",
    "    tf.keras.layers.Dense(10, activation='relu'),\n",
    "    tf.keras.layers.Dense(NUM_CLASSES, activation='softmax')\n",
    "])"
   ]
  },
  {
   "cell_type": "code",
   "execution_count": 100,
   "metadata": {},
   "outputs": [
    {
     "data": {
      "text/plain": [
       "\"\\nmodel = tf.keras.models.Sequential([\\n    tf.keras.layers.Input((21 * 2, )),\\n    tf.keras.layers.Dropout(0.2),\\n    tf.keras.layers.Dense(20, activation='relu'),\\n    tf.keras.layers.Dropout(0.4),\\n    tf.keras.layers.Dense(10, activation='relu'),\\n    tf.keras.layers.Dense(NUM_CLASSES, activation='softmax')\\n])\""
      ]
     },
     "execution_count": 100,
     "metadata": {},
     "output_type": "execute_result"
    }
   ],
   "source": [
    "\"\"\"\n",
    "model = tf.keras.models.Sequential([\n",
    "    tf.keras.layers.Input((21 * 2, )),\n",
    "    tf.keras.layers.Dropout(0.2),\n",
    "    tf.keras.layers.Dense(20, activation='relu'),\n",
    "    tf.keras.layers.Dropout(0.4),\n",
    "    tf.keras.layers.Dense(10, activation='relu'),\n",
    "    tf.keras.layers.Dense(NUM_CLASSES, activation='softmax')\n",
    "])\"\"\""
   ]
  },
  {
   "cell_type": "code",
   "execution_count": 101,
   "metadata": {},
   "outputs": [
    {
     "name": "stdout",
     "output_type": "stream",
     "text": [
      "Model: \"sequential_4\"\n",
      "_________________________________________________________________\n",
      " Layer (type)                Output Shape              Param #   \n",
      "=================================================================\n",
      " dropout_12 (Dropout)        (None, 42)                0         \n",
      "                                                                 \n",
      " dense_16 (Dense)            (None, 40)                1720      \n",
      "                                                                 \n",
      " dropout_13 (Dropout)        (None, 40)                0         \n",
      "                                                                 \n",
      " dense_17 (Dense)            (None, 20)                820       \n",
      "                                                                 \n",
      " dropout_14 (Dropout)        (None, 20)                0         \n",
      "                                                                 \n",
      " dense_18 (Dense)            (None, 10)                210       \n",
      "                                                                 \n",
      " dense_19 (Dense)            (None, 9)                 99        \n",
      "                                                                 \n",
      "=================================================================\n",
      "Total params: 2,849\n",
      "Trainable params: 2,849\n",
      "Non-trainable params: 0\n",
      "_________________________________________________________________\n"
     ]
    }
   ],
   "source": [
    "model.summary()  # tf.keras.utils.plot_model(model, show_shapes=True)"
   ]
  },
  {
   "cell_type": "code",
   "execution_count": 102,
   "metadata": {},
   "outputs": [],
   "source": [
    "cp_callback = tf.keras.callbacks.ModelCheckpoint(\n",
    "    model_save_path, verbose=1, save_weights_only=False)\n",
    "es_callback = tf.keras.callbacks.EarlyStopping(patience=20, verbose=1)"
   ]
  },
  {
   "cell_type": "code",
   "execution_count": 103,
   "metadata": {},
   "outputs": [],
   "source": [
    "model.compile(\n",
    "    optimizer='adam',\n",
    "    loss='sparse_categorical_crossentropy',\n",
    "    metrics=['accuracy']\n",
    ")"
   ]
  },
  {
   "cell_type": "code",
   "execution_count": 104,
   "metadata": {
    "scrolled": true
   },
   "outputs": [
    {
     "name": "stdout",
     "output_type": "stream",
     "text": [
      "Epoch 1/1000\n",
      "68/98 [===================>..........] - ETA: 0s - loss: 2.1520 - accuracy: 0.2014\n",
      "Epoch 1: saving model to gen_model\\landmark.hdf5\n",
      "98/98 [==============================] - 1s 3ms/step - loss: 2.1019 - accuracy: 0.2184 - val_loss: 1.8557 - val_accuracy: 0.2451\n",
      "Epoch 2/1000\n",
      "95/98 [============================>.] - ETA: 0s - loss: 1.7040 - accuracy: 0.3489\n",
      "Epoch 2: saving model to gen_model\\landmark.hdf5\n",
      "98/98 [==============================] - 0s 2ms/step - loss: 1.6980 - accuracy: 0.3515 - val_loss: 1.1949 - val_accuracy: 0.5646\n",
      "Epoch 3/1000\n",
      "98/98 [==============================] - ETA: 0s - loss: 1.3172 - accuracy: 0.4807\n",
      "Epoch 3: saving model to gen_model\\landmark.hdf5\n",
      "98/98 [==============================] - 0s 2ms/step - loss: 1.3172 - accuracy: 0.4807 - val_loss: 0.8786 - val_accuracy: 0.7212\n",
      "Epoch 4/1000\n",
      "79/98 [=======================>......] - ETA: 0s - loss: 1.1434 - accuracy: 0.5432\n",
      "Epoch 4: saving model to gen_model\\landmark.hdf5\n",
      "98/98 [==============================] - 0s 3ms/step - loss: 1.1311 - accuracy: 0.5494 - val_loss: 0.7272 - val_accuracy: 0.8537\n",
      "Epoch 5/1000\n",
      "66/98 [===================>..........] - ETA: 0s - loss: 1.0213 - accuracy: 0.6030\n",
      "Epoch 5: saving model to gen_model\\landmark.hdf5\n",
      "98/98 [==============================] - 0s 2ms/step - loss: 1.0078 - accuracy: 0.6123 - val_loss: 0.5989 - val_accuracy: 0.8937\n",
      "Epoch 6/1000\n",
      "97/98 [============================>.] - ETA: 0s - loss: 0.9255 - accuracy: 0.6560\n",
      "Epoch 6: saving model to gen_model\\landmark.hdf5\n",
      "98/98 [==============================] - 0s 2ms/step - loss: 0.9252 - accuracy: 0.6563 - val_loss: 0.4880 - val_accuracy: 0.9055\n",
      "Epoch 7/1000\n",
      "67/98 [===================>..........] - ETA: 0s - loss: 0.8525 - accuracy: 0.6846\n",
      "Epoch 7: saving model to gen_model\\landmark.hdf5\n",
      "98/98 [==============================] - 0s 2ms/step - loss: 0.8349 - accuracy: 0.6920 - val_loss: 0.4155 - val_accuracy: 0.9067\n",
      "Epoch 8/1000\n",
      "67/98 [===================>..........] - ETA: 0s - loss: 0.7814 - accuracy: 0.7151\n",
      "Epoch 8: saving model to gen_model\\landmark.hdf5\n",
      "98/98 [==============================] - 0s 2ms/step - loss: 0.7651 - accuracy: 0.7203 - val_loss: 0.3401 - val_accuracy: 0.9112\n",
      "Epoch 9/1000\n",
      "70/98 [====================>.........] - ETA: 0s - loss: 0.7271 - accuracy: 0.7321\n",
      "Epoch 9: saving model to gen_model\\landmark.hdf5\n",
      "98/98 [==============================] - 0s 2ms/step - loss: 0.7146 - accuracy: 0.7336 - val_loss: 0.2937 - val_accuracy: 0.9103\n",
      "Epoch 10/1000\n",
      "69/98 [====================>.........] - ETA: 0s - loss: 0.6698 - accuracy: 0.7517\n",
      "Epoch 10: saving model to gen_model\\landmark.hdf5\n",
      "98/98 [==============================] - 0s 2ms/step - loss: 0.6663 - accuracy: 0.7517 - val_loss: 0.2628 - val_accuracy: 0.9064\n",
      "Epoch 11/1000\n",
      "71/98 [====================>.........] - ETA: 0s - loss: 0.6360 - accuracy: 0.7639\n",
      "Epoch 11: saving model to gen_model\\landmark.hdf5\n",
      "98/98 [==============================] - 0s 2ms/step - loss: 0.6270 - accuracy: 0.7664 - val_loss: 0.2354 - val_accuracy: 0.9019\n",
      "Epoch 12/1000\n",
      "72/98 [=====================>........] - ETA: 0s - loss: 0.6083 - accuracy: 0.7691\n",
      "Epoch 12: saving model to gen_model\\landmark.hdf5\n",
      "98/98 [==============================] - 0s 2ms/step - loss: 0.5995 - accuracy: 0.7743 - val_loss: 0.2189 - val_accuracy: 0.9047\n",
      "Epoch 13/1000\n",
      "96/98 [============================>.] - ETA: 0s - loss: 0.5793 - accuracy: 0.7835\n",
      "Epoch 13: saving model to gen_model\\landmark.hdf5\n",
      "98/98 [==============================] - 0s 2ms/step - loss: 0.5793 - accuracy: 0.7835 - val_loss: 0.2081 - val_accuracy: 0.9529\n",
      "Epoch 14/1000\n",
      "69/98 [====================>.........] - ETA: 0s - loss: 0.5737 - accuracy: 0.7910\n",
      "Epoch 14: saving model to gen_model\\landmark.hdf5\n",
      "98/98 [==============================] - 0s 2ms/step - loss: 0.5707 - accuracy: 0.7911 - val_loss: 0.1923 - val_accuracy: 0.9524\n",
      "Epoch 15/1000\n",
      "97/98 [============================>.] - ETA: 0s - loss: 0.5466 - accuracy: 0.8028\n",
      "Epoch 15: saving model to gen_model\\landmark.hdf5\n",
      "98/98 [==============================] - 0s 2ms/step - loss: 0.5465 - accuracy: 0.8030 - val_loss: 0.1868 - val_accuracy: 0.9557\n",
      "Epoch 16/1000\n",
      "67/98 [===================>..........] - ETA: 0s - loss: 0.5464 - accuracy: 0.8034\n",
      "Epoch 16: saving model to gen_model\\landmark.hdf5\n",
      "98/98 [==============================] - 0s 2ms/step - loss: 0.5421 - accuracy: 0.8070 - val_loss: 0.1723 - val_accuracy: 0.9584\n",
      "Epoch 17/1000\n",
      "68/98 [===================>..........] - ETA: 0s - loss: 0.5145 - accuracy: 0.8141\n",
      "Epoch 17: saving model to gen_model\\landmark.hdf5\n",
      "98/98 [==============================] - 0s 2ms/step - loss: 0.5070 - accuracy: 0.8174 - val_loss: 0.1633 - val_accuracy: 0.9550\n",
      "Epoch 18/1000\n",
      "68/98 [===================>..........] - ETA: 0s - loss: 0.5039 - accuracy: 0.8211\n",
      "Epoch 18: saving model to gen_model\\landmark.hdf5\n",
      "98/98 [==============================] - 0s 2ms/step - loss: 0.5046 - accuracy: 0.8198 - val_loss: 0.1558 - val_accuracy: 0.9666\n",
      "Epoch 19/1000\n",
      "69/98 [====================>.........] - ETA: 0s - loss: 0.4994 - accuracy: 0.8282\n",
      "Epoch 19: saving model to gen_model\\landmark.hdf5\n",
      "98/98 [==============================] - 0s 2ms/step - loss: 0.4912 - accuracy: 0.8287 - val_loss: 0.1415 - val_accuracy: 0.9745\n",
      "Epoch 20/1000\n",
      "67/98 [===================>..........] - ETA: 0s - loss: 0.4876 - accuracy: 0.8254\n",
      "Epoch 20: saving model to gen_model\\landmark.hdf5\n",
      "98/98 [==============================] - 0s 2ms/step - loss: 0.4901 - accuracy: 0.8245 - val_loss: 0.1432 - val_accuracy: 0.9735\n",
      "Epoch 21/1000\n",
      "67/98 [===================>..........] - ETA: 0s - loss: 0.4817 - accuracy: 0.8331\n",
      "Epoch 21: saving model to gen_model\\landmark.hdf5\n",
      "98/98 [==============================] - 0s 2ms/step - loss: 0.4812 - accuracy: 0.8301 - val_loss: 0.1324 - val_accuracy: 0.9719\n",
      "Epoch 22/1000\n",
      "97/98 [============================>.] - ETA: 0s - loss: 0.4585 - accuracy: 0.8374\n",
      "Epoch 22: saving model to gen_model\\landmark.hdf5\n",
      "98/98 [==============================] - 0s 2ms/step - loss: 0.4597 - accuracy: 0.8371 - val_loss: 0.1380 - val_accuracy: 0.9827\n",
      "Epoch 23/1000\n",
      "68/98 [===================>..........] - ETA: 0s - loss: 0.4484 - accuracy: 0.8405\n",
      "Epoch 23: saving model to gen_model\\landmark.hdf5\n",
      "98/98 [==============================] - 0s 2ms/step - loss: 0.4568 - accuracy: 0.8380 - val_loss: 0.1375 - val_accuracy: 0.9704\n",
      "Epoch 24/1000\n",
      "68/98 [===================>..........] - ETA: 0s - loss: 0.4384 - accuracy: 0.8446\n",
      "Epoch 24: saving model to gen_model\\landmark.hdf5\n",
      "98/98 [==============================] - 0s 2ms/step - loss: 0.4416 - accuracy: 0.8443 - val_loss: 0.1180 - val_accuracy: 0.9916\n",
      "Epoch 25/1000\n",
      "68/98 [===================>..........] - ETA: 0s - loss: 0.4548 - accuracy: 0.8370\n",
      "Epoch 25: saving model to gen_model\\landmark.hdf5\n",
      "98/98 [==============================] - 0s 2ms/step - loss: 0.4503 - accuracy: 0.8402 - val_loss: 0.1239 - val_accuracy: 0.9757\n",
      "Epoch 26/1000\n",
      "68/98 [===================>..........] - ETA: 0s - loss: 0.4308 - accuracy: 0.8487\n",
      "Epoch 26: saving model to gen_model\\landmark.hdf5\n",
      "98/98 [==============================] - 0s 2ms/step - loss: 0.4332 - accuracy: 0.8487 - val_loss: 0.1242 - val_accuracy: 0.9745\n",
      "Epoch 27/1000\n",
      "96/98 [============================>.] - ETA: 0s - loss: 0.4344 - accuracy: 0.8494\n",
      "Epoch 27: saving model to gen_model\\landmark.hdf5\n",
      "98/98 [==============================] - 0s 2ms/step - loss: 0.4344 - accuracy: 0.8494 - val_loss: 0.1124 - val_accuracy: 0.9990\n",
      "Epoch 28/1000\n",
      "65/98 [==================>...........] - ETA: 0s - loss: 0.4306 - accuracy: 0.8486\n",
      "Epoch 28: saving model to gen_model\\landmark.hdf5\n",
      "98/98 [==============================] - 0s 2ms/step - loss: 0.4286 - accuracy: 0.8483 - val_loss: 0.1044 - val_accuracy: 0.9995\n",
      "Epoch 29/1000\n",
      "66/98 [===================>..........] - ETA: 0s - loss: 0.4125 - accuracy: 0.8535\n",
      "Epoch 29: saving model to gen_model\\landmark.hdf5\n",
      "98/98 [==============================] - 0s 2ms/step - loss: 0.4088 - accuracy: 0.8569 - val_loss: 0.1023 - val_accuracy: 0.9998\n",
      "Epoch 30/1000\n",
      "67/98 [===================>..........] - ETA: 0s - loss: 0.4167 - accuracy: 0.8513\n",
      "Epoch 30: saving model to gen_model\\landmark.hdf5\n",
      "98/98 [==============================] - 0s 2ms/step - loss: 0.4118 - accuracy: 0.8529 - val_loss: 0.0965 - val_accuracy: 0.9998\n",
      "Epoch 31/1000\n",
      "97/98 [============================>.] - ETA: 0s - loss: 0.3960 - accuracy: 0.8614\n",
      "Epoch 31: saving model to gen_model\\landmark.hdf5\n",
      "98/98 [==============================] - 0s 2ms/step - loss: 0.3971 - accuracy: 0.8609 - val_loss: 0.0985 - val_accuracy: 0.9993\n",
      "Epoch 32/1000\n",
      "69/98 [====================>.........] - ETA: 0s - loss: 0.4085 - accuracy: 0.8569\n",
      "Epoch 32: saving model to gen_model\\landmark.hdf5\n",
      "98/98 [==============================] - 0s 2ms/step - loss: 0.4050 - accuracy: 0.8597 - val_loss: 0.0912 - val_accuracy: 0.9995\n",
      "Epoch 33/1000\n",
      "70/98 [====================>.........] - ETA: 0s - loss: 0.3886 - accuracy: 0.8686\n",
      "Epoch 33: saving model to gen_model\\landmark.hdf5\n",
      "98/98 [==============================] - 0s 2ms/step - loss: 0.3868 - accuracy: 0.8686 - val_loss: 0.0801 - val_accuracy: 0.9998\n",
      "Epoch 34/1000\n",
      "67/98 [===================>..........] - ETA: 0s - loss: 0.3720 - accuracy: 0.8689\n",
      "Epoch 34: saving model to gen_model\\landmark.hdf5\n",
      "98/98 [==============================] - 0s 2ms/step - loss: 0.3771 - accuracy: 0.8676 - val_loss: 0.0870 - val_accuracy: 1.0000\n",
      "Epoch 35/1000\n",
      "68/98 [===================>..........] - ETA: 0s - loss: 0.3804 - accuracy: 0.8690\n",
      "Epoch 35: saving model to gen_model\\landmark.hdf5\n",
      "98/98 [==============================] - 0s 2ms/step - loss: 0.3703 - accuracy: 0.8725 - val_loss: 0.0735 - val_accuracy: 0.9998\n",
      "Epoch 36/1000\n",
      "70/98 [====================>.........] - ETA: 0s - loss: 0.3897 - accuracy: 0.8676\n",
      "Epoch 36: saving model to gen_model\\landmark.hdf5\n",
      "98/98 [==============================] - 0s 2ms/step - loss: 0.3883 - accuracy: 0.8681 - val_loss: 0.0860 - val_accuracy: 0.9998\n",
      "Epoch 37/1000\n",
      "69/98 [====================>.........] - ETA: 0s - loss: 0.3720 - accuracy: 0.8725\n",
      "Epoch 37: saving model to gen_model\\landmark.hdf5\n",
      "98/98 [==============================] - 0s 2ms/step - loss: 0.3694 - accuracy: 0.8738 - val_loss: 0.0747 - val_accuracy: 0.9998\n",
      "Epoch 38/1000\n",
      "71/98 [====================>.........] - ETA: 0s - loss: 0.3595 - accuracy: 0.8730\n",
      "Epoch 38: saving model to gen_model\\landmark.hdf5\n",
      "98/98 [==============================] - 0s 2ms/step - loss: 0.3599 - accuracy: 0.8714 - val_loss: 0.0774 - val_accuracy: 1.0000\n",
      "Epoch 39/1000\n",
      "98/98 [==============================] - ETA: 0s - loss: 0.3555 - accuracy: 0.8790\n",
      "Epoch 39: saving model to gen_model\\landmark.hdf5\n",
      "98/98 [==============================] - 0s 2ms/step - loss: 0.3555 - accuracy: 0.8790 - val_loss: 0.0728 - val_accuracy: 0.9998\n",
      "Epoch 40/1000\n",
      "64/98 [==================>...........] - ETA: 0s - loss: 0.3444 - accuracy: 0.8809\n",
      "Epoch 40: saving model to gen_model\\landmark.hdf5\n",
      "98/98 [==============================] - 0s 2ms/step - loss: 0.3408 - accuracy: 0.8807 - val_loss: 0.0684 - val_accuracy: 0.9998\n",
      "Epoch 41/1000\n",
      "70/98 [====================>.........] - ETA: 0s - loss: 0.3484 - accuracy: 0.8761\n",
      "Epoch 41: saving model to gen_model\\landmark.hdf5\n",
      "98/98 [==============================] - 0s 2ms/step - loss: 0.3522 - accuracy: 0.8744 - val_loss: 0.0740 - val_accuracy: 0.9998\n",
      "Epoch 42/1000\n",
      "79/98 [=======================>......] - ETA: 0s - loss: 0.3429 - accuracy: 0.8831\n",
      "Epoch 42: saving model to gen_model\\landmark.hdf5\n",
      "98/98 [==============================] - 0s 3ms/step - loss: 0.3470 - accuracy: 0.8807 - val_loss: 0.0675 - val_accuracy: 0.9998\n",
      "Epoch 43/1000\n",
      "66/98 [===================>..........] - ETA: 0s - loss: 0.3482 - accuracy: 0.8793\n",
      "Epoch 43: saving model to gen_model\\landmark.hdf5\n",
      "98/98 [==============================] - 0s 2ms/step - loss: 0.3414 - accuracy: 0.8838 - val_loss: 0.0693 - val_accuracy: 0.9969\n",
      "Epoch 44/1000\n",
      "68/98 [===================>..........] - ETA: 0s - loss: 0.3402 - accuracy: 0.8837\n",
      "Epoch 44: saving model to gen_model\\landmark.hdf5\n",
      "98/98 [==============================] - 0s 2ms/step - loss: 0.3384 - accuracy: 0.8827 - val_loss: 0.0613 - val_accuracy: 0.9998\n",
      "Epoch 45/1000\n",
      "64/98 [==================>...........] - ETA: 0s - loss: 0.3434 - accuracy: 0.8802\n",
      "Epoch 45: saving model to gen_model\\landmark.hdf5\n",
      "98/98 [==============================] - 0s 2ms/step - loss: 0.3487 - accuracy: 0.8801 - val_loss: 0.0644 - val_accuracy: 0.9998\n",
      "Epoch 46/1000\n",
      "68/98 [===================>..........] - ETA: 0s - loss: 0.3362 - accuracy: 0.8842\n",
      "Epoch 46: saving model to gen_model\\landmark.hdf5\n",
      "98/98 [==============================] - 0s 2ms/step - loss: 0.3388 - accuracy: 0.8816 - val_loss: 0.0707 - val_accuracy: 0.9990\n",
      "Epoch 47/1000\n",
      "66/98 [===================>..........] - ETA: 0s - loss: 0.3291 - accuracy: 0.8859\n",
      "Epoch 47: saving model to gen_model\\landmark.hdf5\n",
      "98/98 [==============================] - 0s 2ms/step - loss: 0.3298 - accuracy: 0.8851 - val_loss: 0.0597 - val_accuracy: 0.9998\n",
      "Epoch 48/1000\n",
      "96/98 [============================>.] - ETA: 0s - loss: 0.3381 - accuracy: 0.8818\n",
      "Epoch 48: saving model to gen_model\\landmark.hdf5\n",
      "98/98 [==============================] - 0s 2ms/step - loss: 0.3382 - accuracy: 0.8823 - val_loss: 0.0624 - val_accuracy: 0.9998\n",
      "Epoch 49/1000\n",
      "98/98 [==============================] - ETA: 0s - loss: 0.3307 - accuracy: 0.8864\n",
      "Epoch 49: saving model to gen_model\\landmark.hdf5\n",
      "98/98 [==============================] - 0s 2ms/step - loss: 0.3307 - accuracy: 0.8864 - val_loss: 0.0619 - val_accuracy: 0.9998\n",
      "Epoch 50/1000\n",
      "67/98 [===================>..........] - ETA: 0s - loss: 0.3241 - accuracy: 0.8868\n",
      "Epoch 50: saving model to gen_model\\landmark.hdf5\n",
      "98/98 [==============================] - 0s 2ms/step - loss: 0.3287 - accuracy: 0.8857 - val_loss: 0.0504 - val_accuracy: 1.0000\n",
      "Epoch 51/1000\n",
      "67/98 [===================>..........] - ETA: 0s - loss: 0.3144 - accuracy: 0.8890\n",
      "Epoch 51: saving model to gen_model\\landmark.hdf5\n",
      "98/98 [==============================] - 0s 2ms/step - loss: 0.3177 - accuracy: 0.8890 - val_loss: 0.0542 - val_accuracy: 1.0000\n",
      "Epoch 52/1000\n",
      "67/98 [===================>..........] - ETA: 0s - loss: 0.3200 - accuracy: 0.8877\n",
      "Epoch 52: saving model to gen_model\\landmark.hdf5\n",
      "98/98 [==============================] - 0s 2ms/step - loss: 0.3193 - accuracy: 0.8877 - val_loss: 0.0594 - val_accuracy: 0.9993\n",
      "Epoch 53/1000\n",
      "71/98 [====================>.........] - ETA: 0s - loss: 0.3207 - accuracy: 0.8886\n",
      "Epoch 53: saving model to gen_model\\landmark.hdf5\n",
      "98/98 [==============================] - 0s 2ms/step - loss: 0.3241 - accuracy: 0.8884 - val_loss: 0.0562 - val_accuracy: 0.9998\n",
      "Epoch 54/1000\n",
      "67/98 [===================>..........] - ETA: 0s - loss: 0.3199 - accuracy: 0.8905\n",
      "Epoch 54: saving model to gen_model\\landmark.hdf5\n",
      "98/98 [==============================] - 0s 2ms/step - loss: 0.3165 - accuracy: 0.8916 - val_loss: 0.0567 - val_accuracy: 0.9998\n",
      "Epoch 55/1000\n",
      "94/98 [===========================>..] - ETA: 0s - loss: 0.3023 - accuracy: 0.8935\n",
      "Epoch 55: saving model to gen_model\\landmark.hdf5\n",
      "98/98 [==============================] - 0s 2ms/step - loss: 0.3027 - accuracy: 0.8932 - val_loss: 0.0465 - val_accuracy: 0.9998\n",
      "Epoch 56/1000\n",
      "69/98 [====================>.........] - ETA: 0s - loss: 0.3003 - accuracy: 0.8967\n",
      "Epoch 56: saving model to gen_model\\landmark.hdf5\n",
      "98/98 [==============================] - 0s 2ms/step - loss: 0.3049 - accuracy: 0.8948 - val_loss: 0.0484 - val_accuracy: 0.9998\n",
      "Epoch 57/1000\n",
      "65/98 [==================>...........] - ETA: 0s - loss: 0.3078 - accuracy: 0.8927\n",
      "Epoch 57: saving model to gen_model\\landmark.hdf5\n",
      "98/98 [==============================] - 0s 2ms/step - loss: 0.3111 - accuracy: 0.8930 - val_loss: 0.0561 - val_accuracy: 1.0000\n",
      "Epoch 58/1000\n",
      "69/98 [====================>.........] - ETA: 0s - loss: 0.3117 - accuracy: 0.8903\n",
      "Epoch 58: saving model to gen_model\\landmark.hdf5\n",
      "98/98 [==============================] - 0s 2ms/step - loss: 0.3092 - accuracy: 0.8917 - val_loss: 0.0471 - val_accuracy: 0.9998\n",
      "Epoch 59/1000\n",
      "98/98 [==============================] - ETA: 0s - loss: 0.3117 - accuracy: 0.8932\n",
      "Epoch 59: saving model to gen_model\\landmark.hdf5\n",
      "98/98 [==============================] - 0s 2ms/step - loss: 0.3117 - accuracy: 0.8932 - val_loss: 0.0546 - val_accuracy: 0.9998\n",
      "Epoch 60/1000\n",
      "66/98 [===================>..........] - ETA: 0s - loss: 0.3095 - accuracy: 0.8920\n",
      "Epoch 60: saving model to gen_model\\landmark.hdf5\n",
      "98/98 [==============================] - 0s 2ms/step - loss: 0.3084 - accuracy: 0.8920 - val_loss: 0.0504 - val_accuracy: 0.9998\n",
      "Epoch 61/1000\n",
      "67/98 [===================>..........] - ETA: 0s - loss: 0.3095 - accuracy: 0.8927\n",
      "Epoch 61: saving model to gen_model\\landmark.hdf5\n",
      "98/98 [==============================] - 0s 2ms/step - loss: 0.3127 - accuracy: 0.8907 - val_loss: 0.0624 - val_accuracy: 0.9998\n",
      "Epoch 62/1000\n",
      "66/98 [===================>..........] - ETA: 0s - loss: 0.3103 - accuracy: 0.8894\n",
      "Epoch 62: saving model to gen_model\\landmark.hdf5\n",
      "98/98 [==============================] - 0s 2ms/step - loss: 0.3061 - accuracy: 0.8922 - val_loss: 0.0524 - val_accuracy: 0.9998\n",
      "Epoch 63/1000\n",
      "67/98 [===================>..........] - ETA: 0s - loss: 0.2934 - accuracy: 0.8966\n",
      "Epoch 63: saving model to gen_model\\landmark.hdf5\n",
      "98/98 [==============================] - 0s 2ms/step - loss: 0.3030 - accuracy: 0.8935 - val_loss: 0.0455 - val_accuracy: 0.9993\n",
      "Epoch 64/1000\n",
      "68/98 [===================>..........] - ETA: 0s - loss: 0.3043 - accuracy: 0.8975\n",
      "Epoch 64: saving model to gen_model\\landmark.hdf5\n",
      "98/98 [==============================] - 0s 2ms/step - loss: 0.3001 - accuracy: 0.8973 - val_loss: 0.0462 - val_accuracy: 0.9998\n",
      "Epoch 65/1000\n",
      "68/98 [===================>..........] - ETA: 0s - loss: 0.2907 - accuracy: 0.8986\n",
      "Epoch 65: saving model to gen_model\\landmark.hdf5\n",
      "98/98 [==============================] - 0s 2ms/step - loss: 0.2926 - accuracy: 0.8984 - val_loss: 0.0558 - val_accuracy: 0.9998\n",
      "Epoch 66/1000\n",
      "68/98 [===================>..........] - ETA: 0s - loss: 0.3011 - accuracy: 0.8960\n",
      "Epoch 66: saving model to gen_model\\landmark.hdf5\n",
      "98/98 [==============================] - 0s 2ms/step - loss: 0.2953 - accuracy: 0.8982 - val_loss: 0.0452 - val_accuracy: 0.9993\n",
      "Epoch 67/1000\n",
      "66/98 [===================>..........] - ETA: 0s - loss: 0.2954 - accuracy: 0.9014\n",
      "Epoch 67: saving model to gen_model\\landmark.hdf5\n",
      "98/98 [==============================] - 0s 2ms/step - loss: 0.2971 - accuracy: 0.9008 - val_loss: 0.0537 - val_accuracy: 0.9998\n",
      "Epoch 68/1000\n",
      "64/98 [==================>...........] - ETA: 0s - loss: 0.2937 - accuracy: 0.8984\n",
      "Epoch 68: saving model to gen_model\\landmark.hdf5\n",
      "98/98 [==============================] - 0s 2ms/step - loss: 0.2928 - accuracy: 0.8989 - val_loss: 0.0536 - val_accuracy: 0.9998\n",
      "Epoch 69/1000\n",
      "92/98 [===========================>..] - ETA: 0s - loss: 0.2897 - accuracy: 0.8998\n",
      "Epoch 69: saving model to gen_model\\landmark.hdf5\n",
      "98/98 [==============================] - 0s 2ms/step - loss: 0.2884 - accuracy: 0.9001 - val_loss: 0.0453 - val_accuracy: 0.9993\n",
      "Epoch 70/1000\n",
      "67/98 [===================>..........] - ETA: 0s - loss: 0.2941 - accuracy: 0.9002\n",
      "Epoch 70: saving model to gen_model\\landmark.hdf5\n",
      "98/98 [==============================] - 0s 2ms/step - loss: 0.2964 - accuracy: 0.8989 - val_loss: 0.0555 - val_accuracy: 0.9993\n",
      "Epoch 71/1000\n",
      "67/98 [===================>..........] - ETA: 0s - loss: 0.2874 - accuracy: 0.9038\n",
      "Epoch 71: saving model to gen_model\\landmark.hdf5\n",
      "98/98 [==============================] - 0s 2ms/step - loss: 0.2860 - accuracy: 0.9041 - val_loss: 0.0511 - val_accuracy: 0.9998\n",
      "Epoch 72/1000\n",
      "96/98 [============================>.] - ETA: 0s - loss: 0.2965 - accuracy: 0.9036\n",
      "Epoch 72: saving model to gen_model\\landmark.hdf5\n",
      "98/98 [==============================] - 0s 2ms/step - loss: 0.2960 - accuracy: 0.9036 - val_loss: 0.0511 - val_accuracy: 0.9995\n",
      "Epoch 73/1000\n",
      "67/98 [===================>..........] - ETA: 0s - loss: 0.2830 - accuracy: 0.9033\n",
      "Epoch 73: saving model to gen_model\\landmark.hdf5\n",
      "98/98 [==============================] - 0s 2ms/step - loss: 0.2865 - accuracy: 0.9017 - val_loss: 0.0512 - val_accuracy: 0.9995\n",
      "Epoch 74/1000\n",
      "66/98 [===================>..........] - ETA: 0s - loss: 0.2830 - accuracy: 0.9034\n",
      "Epoch 74: saving model to gen_model\\landmark.hdf5\n",
      "98/98 [==============================] - 0s 2ms/step - loss: 0.2829 - accuracy: 0.9030 - val_loss: 0.0480 - val_accuracy: 0.9998\n",
      "Epoch 75/1000\n",
      "67/98 [===================>..........] - ETA: 0s - loss: 0.2932 - accuracy: 0.9010\n",
      "Epoch 75: saving model to gen_model\\landmark.hdf5\n",
      "98/98 [==============================] - 0s 2ms/step - loss: 0.2897 - accuracy: 0.8998 - val_loss: 0.0514 - val_accuracy: 0.9988\n",
      "Epoch 76/1000\n",
      "66/98 [===================>..........] - ETA: 0s - loss: 0.2835 - accuracy: 0.9067\n",
      "Epoch 76: saving model to gen_model\\landmark.hdf5\n",
      "98/98 [==============================] - 0s 2ms/step - loss: 0.2832 - accuracy: 0.9062 - val_loss: 0.0489 - val_accuracy: 0.9998\n",
      "Epoch 77/1000\n",
      "98/98 [==============================] - ETA: 0s - loss: 0.2771 - accuracy: 0.9060\n",
      "Epoch 77: saving model to gen_model\\landmark.hdf5\n",
      "98/98 [==============================] - 0s 2ms/step - loss: 0.2771 - accuracy: 0.9060 - val_loss: 0.0453 - val_accuracy: 0.9995\n",
      "Epoch 78/1000\n",
      "66/98 [===================>..........] - ETA: 0s - loss: 0.2846 - accuracy: 0.9071\n",
      "Epoch 78: saving model to gen_model\\landmark.hdf5\n",
      "98/98 [==============================] - 0s 2ms/step - loss: 0.2847 - accuracy: 0.9050 - val_loss: 0.0489 - val_accuracy: 0.9998\n",
      "Epoch 79/1000\n",
      "70/98 [====================>.........] - ETA: 0s - loss: 0.2769 - accuracy: 0.9045\n",
      "Epoch 79: saving model to gen_model\\landmark.hdf5\n",
      "98/98 [==============================] - 0s 2ms/step - loss: 0.2760 - accuracy: 0.9062 - val_loss: 0.0529 - val_accuracy: 0.9983\n",
      "Epoch 80/1000\n",
      "67/98 [===================>..........] - ETA: 0s - loss: 0.2692 - accuracy: 0.9130\n",
      "Epoch 80: saving model to gen_model\\landmark.hdf5\n",
      "98/98 [==============================] - 0s 2ms/step - loss: 0.2728 - accuracy: 0.9093 - val_loss: 0.0533 - val_accuracy: 0.9978\n",
      "Epoch 81/1000\n",
      "70/98 [====================>.........] - ETA: 0s - loss: 0.2805 - accuracy: 0.9020\n",
      "Epoch 81: saving model to gen_model\\landmark.hdf5\n",
      "98/98 [==============================] - 0s 2ms/step - loss: 0.2771 - accuracy: 0.9034 - val_loss: 0.0506 - val_accuracy: 0.9981\n",
      "Epoch 82/1000\n",
      "67/98 [===================>..........] - ETA: 0s - loss: 0.2785 - accuracy: 0.9066\n",
      "Epoch 82: saving model to gen_model\\landmark.hdf5\n",
      "98/98 [==============================] - 0s 2ms/step - loss: 0.2829 - accuracy: 0.9054 - val_loss: 0.0509 - val_accuracy: 0.9993\n",
      "Epoch 83/1000\n",
      "93/98 [===========================>..] - ETA: 0s - loss: 0.2734 - accuracy: 0.9073\n",
      "Epoch 83: saving model to gen_model\\landmark.hdf5\n",
      "98/98 [==============================] - 0s 2ms/step - loss: 0.2745 - accuracy: 0.9066 - val_loss: 0.0424 - val_accuracy: 0.9998\n",
      "Epoch 84/1000\n",
      "69/98 [====================>.........] - ETA: 0s - loss: 0.2665 - accuracy: 0.9124\n",
      "Epoch 84: saving model to gen_model\\landmark.hdf5\n",
      "98/98 [==============================] - 0s 2ms/step - loss: 0.2673 - accuracy: 0.9121 - val_loss: 0.0427 - val_accuracy: 1.0000\n",
      "Epoch 85/1000\n",
      "67/98 [===================>..........] - ETA: 0s - loss: 0.2677 - accuracy: 0.9102\n",
      "Epoch 85: saving model to gen_model\\landmark.hdf5\n",
      "98/98 [==============================] - 0s 2ms/step - loss: 0.2727 - accuracy: 0.9078 - val_loss: 0.0516 - val_accuracy: 0.9981\n",
      "Epoch 86/1000\n",
      "66/98 [===================>..........] - ETA: 0s - loss: 0.2673 - accuracy: 0.9076\n",
      "Epoch 86: saving model to gen_model\\landmark.hdf5\n",
      "98/98 [==============================] - 0s 2ms/step - loss: 0.2672 - accuracy: 0.9085 - val_loss: 0.0429 - val_accuracy: 1.0000\n",
      "Epoch 87/1000\n",
      "69/98 [====================>.........] - ETA: 0s - loss: 0.2631 - accuracy: 0.9123\n",
      "Epoch 87: saving model to gen_model\\landmark.hdf5\n",
      "98/98 [==============================] - 0s 2ms/step - loss: 0.2680 - accuracy: 0.9102 - val_loss: 0.0516 - val_accuracy: 0.9993\n",
      "Epoch 88/1000\n",
      "72/98 [=====================>........] - ETA: 0s - loss: 0.2703 - accuracy: 0.9099\n",
      "Epoch 88: saving model to gen_model\\landmark.hdf5\n",
      "98/98 [==============================] - 0s 2ms/step - loss: 0.2776 - accuracy: 0.9085 - val_loss: 0.0470 - val_accuracy: 0.9995\n",
      "Epoch 89/1000\n",
      "70/98 [====================>.........] - ETA: 0s - loss: 0.2689 - accuracy: 0.9092\n",
      "Epoch 89: saving model to gen_model\\landmark.hdf5\n",
      "98/98 [==============================] - 0s 2ms/step - loss: 0.2675 - accuracy: 0.9095 - val_loss: 0.0367 - val_accuracy: 0.9998\n",
      "Epoch 90/1000\n",
      "67/98 [===================>..........] - ETA: 0s - loss: 0.2691 - accuracy: 0.9076\n",
      "Epoch 90: saving model to gen_model\\landmark.hdf5\n",
      "98/98 [==============================] - 0s 2ms/step - loss: 0.2665 - accuracy: 0.9092 - val_loss: 0.0336 - val_accuracy: 0.9998\n",
      "Epoch 91/1000\n",
      "68/98 [===================>..........] - ETA: 0s - loss: 0.2688 - accuracy: 0.9116\n",
      "Epoch 91: saving model to gen_model\\landmark.hdf5\n",
      "98/98 [==============================] - 0s 2ms/step - loss: 0.2696 - accuracy: 0.9114 - val_loss: 0.0450 - val_accuracy: 1.0000\n",
      "Epoch 92/1000\n",
      "68/98 [===================>..........] - ETA: 0s - loss: 0.2499 - accuracy: 0.9160\n",
      "Epoch 92: saving model to gen_model\\landmark.hdf5\n",
      "98/98 [==============================] - 0s 2ms/step - loss: 0.2589 - accuracy: 0.9125 - val_loss: 0.0424 - val_accuracy: 1.0000\n",
      "Epoch 93/1000\n",
      "66/98 [===================>..........] - ETA: 0s - loss: 0.2527 - accuracy: 0.9124\n",
      "Epoch 93: saving model to gen_model\\landmark.hdf5\n",
      "98/98 [==============================] - 0s 2ms/step - loss: 0.2575 - accuracy: 0.9114 - val_loss: 0.0396 - val_accuracy: 1.0000\n",
      "Epoch 94/1000\n",
      "67/98 [===================>..........] - ETA: 0s - loss: 0.2634 - accuracy: 0.9102\n",
      "Epoch 94: saving model to gen_model\\landmark.hdf5\n",
      "98/98 [==============================] - 0s 2ms/step - loss: 0.2614 - accuracy: 0.9099 - val_loss: 0.0376 - val_accuracy: 1.0000\n",
      "Epoch 95/1000\n",
      "68/98 [===================>..........] - ETA: 0s - loss: 0.2678 - accuracy: 0.9064\n",
      "Epoch 95: saving model to gen_model\\landmark.hdf5\n",
      "98/98 [==============================] - 0s 2ms/step - loss: 0.2640 - accuracy: 0.9075 - val_loss: 0.0497 - val_accuracy: 0.9998\n",
      "Epoch 96/1000\n",
      "67/98 [===================>..........] - ETA: 0s - loss: 0.2623 - accuracy: 0.9144\n",
      "Epoch 96: saving model to gen_model\\landmark.hdf5\n",
      "98/98 [==============================] - 0s 2ms/step - loss: 0.2571 - accuracy: 0.9147 - val_loss: 0.0412 - val_accuracy: 1.0000\n",
      "Epoch 97/1000\n",
      "98/98 [==============================] - ETA: 0s - loss: 0.2627 - accuracy: 0.9122\n",
      "Epoch 97: saving model to gen_model\\landmark.hdf5\n",
      "98/98 [==============================] - 0s 2ms/step - loss: 0.2627 - accuracy: 0.9122 - val_loss: 0.0413 - val_accuracy: 0.9995\n",
      "Epoch 98/1000\n",
      "69/98 [====================>.........] - ETA: 0s - loss: 0.2614 - accuracy: 0.9126\n",
      "Epoch 98: saving model to gen_model\\landmark.hdf5\n",
      "98/98 [==============================] - 0s 2ms/step - loss: 0.2593 - accuracy: 0.9125 - val_loss: 0.0470 - val_accuracy: 1.0000\n",
      "Epoch 99/1000\n",
      "66/98 [===================>..........] - ETA: 0s - loss: 0.2515 - accuracy: 0.9141\n",
      "Epoch 99: saving model to gen_model\\landmark.hdf5\n",
      "98/98 [==============================] - 0s 2ms/step - loss: 0.2459 - accuracy: 0.9151 - val_loss: 0.0546 - val_accuracy: 0.9995\n",
      "Epoch 100/1000\n",
      "93/98 [===========================>..] - ETA: 0s - loss: 0.2657 - accuracy: 0.9098\n",
      "Epoch 100: saving model to gen_model\\landmark.hdf5\n",
      "98/98 [==============================] - 0s 3ms/step - loss: 0.2670 - accuracy: 0.9098 - val_loss: 0.0405 - val_accuracy: 0.9993\n",
      "Epoch 101/1000\n",
      "74/98 [=====================>........] - ETA: 0s - loss: 0.2593 - accuracy: 0.9113\n",
      "Epoch 101: saving model to gen_model\\landmark.hdf5\n",
      "98/98 [==============================] - 0s 3ms/step - loss: 0.2609 - accuracy: 0.9112 - val_loss: 0.0502 - val_accuracy: 0.9998\n",
      "Epoch 102/1000\n",
      "79/98 [=======================>......] - ETA: 0s - loss: 0.2669 - accuracy: 0.9111\n",
      "Epoch 102: saving model to gen_model\\landmark.hdf5\n",
      "98/98 [==============================] - 0s 3ms/step - loss: 0.2658 - accuracy: 0.9116 - val_loss: 0.0445 - val_accuracy: 1.0000\n",
      "Epoch 103/1000\n",
      "66/98 [===================>..........] - ETA: 0s - loss: 0.2549 - accuracy: 0.9085\n",
      "Epoch 103: saving model to gen_model\\landmark.hdf5\n",
      "98/98 [==============================] - 0s 2ms/step - loss: 0.2575 - accuracy: 0.9085 - val_loss: 0.0457 - val_accuracy: 1.0000\n",
      "Epoch 104/1000\n",
      "94/98 [===========================>..] - ETA: 0s - loss: 0.2693 - accuracy: 0.9119\n",
      "Epoch 104: saving model to gen_model\\landmark.hdf5\n",
      "98/98 [==============================] - 0s 3ms/step - loss: 0.2695 - accuracy: 0.9119 - val_loss: 0.0417 - val_accuracy: 0.9998\n",
      "Epoch 105/1000\n",
      "96/98 [============================>.] - ETA: 0s - loss: 0.2561 - accuracy: 0.9137\n",
      "Epoch 105: saving model to gen_model\\landmark.hdf5\n",
      "98/98 [==============================] - 0s 2ms/step - loss: 0.2558 - accuracy: 0.9139 - val_loss: 0.0544 - val_accuracy: 0.9978\n",
      "Epoch 106/1000\n",
      "70/98 [====================>.........] - ETA: 0s - loss: 0.2527 - accuracy: 0.9136\n",
      "Epoch 106: saving model to gen_model\\landmark.hdf5\n",
      "98/98 [==============================] - 0s 2ms/step - loss: 0.2515 - accuracy: 0.9144 - val_loss: 0.0398 - val_accuracy: 0.9995\n",
      "Epoch 107/1000\n",
      "68/98 [===================>..........] - ETA: 0s - loss: 0.2537 - accuracy: 0.9158\n",
      "Epoch 107: saving model to gen_model\\landmark.hdf5\n",
      "98/98 [==============================] - 0s 2ms/step - loss: 0.2502 - accuracy: 0.9180 - val_loss: 0.0470 - val_accuracy: 0.9995\n",
      "Epoch 108/1000\n",
      "92/98 [===========================>..] - ETA: 0s - loss: 0.2574 - accuracy: 0.9142\n",
      "Epoch 108: saving model to gen_model\\landmark.hdf5\n",
      "98/98 [==============================] - 0s 2ms/step - loss: 0.2576 - accuracy: 0.9140 - val_loss: 0.0458 - val_accuracy: 1.0000\n",
      "Epoch 109/1000\n",
      "68/98 [===================>..........] - ETA: 0s - loss: 0.2550 - accuracy: 0.9130\n",
      "Epoch 109: saving model to gen_model\\landmark.hdf5\n",
      "98/98 [==============================] - 0s 2ms/step - loss: 0.2508 - accuracy: 0.9138 - val_loss: 0.0448 - val_accuracy: 0.9998\n",
      "Epoch 110/1000\n",
      "97/98 [============================>.] - ETA: 0s - loss: 0.2584 - accuracy: 0.9141\n",
      "Epoch 110: saving model to gen_model\\landmark.hdf5\n",
      "98/98 [==============================] - 0s 2ms/step - loss: 0.2584 - accuracy: 0.9142 - val_loss: 0.0399 - val_accuracy: 0.9993\n",
      "Epoch 110: early stopping\n"
     ]
    },
    {
     "data": {
      "text/plain": [
       "<keras.callbacks.History at 0x1dc17caf430>"
      ]
     },
     "execution_count": 104,
     "metadata": {},
     "output_type": "execute_result"
    }
   ],
   "source": [
    "model.fit(\n",
    "    X_train,\n",
    "    y_train,\n",
    "    epochs=1000,\n",
    "    batch_size=128,\n",
    "    validation_data=(X_test, y_test),\n",
    "    callbacks=[cp_callback, es_callback]\n",
    ")"
   ]
  },
  {
   "cell_type": "code",
   "execution_count": 105,
   "metadata": {},
   "outputs": [
    {
     "name": "stdout",
     "output_type": "stream",
     "text": [
      "33/33 [==============================] - 0s 1ms/step - loss: 0.0399 - accuracy: 0.9993\n"
     ]
    }
   ],
   "source": [
    "\n",
    "val_loss, val_acc = model.evaluate(X_test, y_test, batch_size=128)"
   ]
  },
  {
   "cell_type": "code",
   "execution_count": 106,
   "metadata": {},
   "outputs": [],
   "source": [
    "\n",
    "model = tf.keras.models.load_model(model_save_path)"
   ]
  },
  {
   "cell_type": "code",
   "execution_count": 107,
   "metadata": {},
   "outputs": [
    {
     "name": "stdout",
     "output_type": "stream",
     "text": [
      "[9.9862301e-01 8.3999585e-05 3.5065029e-14 1.7972813e-17 4.2557882e-29\n",
      " 1.2741473e-03 2.8777213e-14 3.3613571e-14 1.8865952e-05]\n",
      "0\n"
     ]
    }
   ],
   "source": [
    "\n",
    "predict_result = model.predict(np.array([X_test[0]]))\n",
    "print(np.squeeze(predict_result))\n",
    "print(np.argmax(np.squeeze(predict_result)))"
   ]
  },
  {
   "cell_type": "code",
   "execution_count": 108,
   "metadata": {},
   "outputs": [
    {
     "data": {
      "image/png": "[encoded data removed]",
      "text/plain": [
       "<Figure size 504x432 with 2 Axes>"
      ]
     },
     "metadata": {
      "needs_background": "light"
     },
     "output_type": "display_data"
    },
    {
     "name": "stdout",
     "output_type": "stream",
     "text": [
      "Classification Report\n",
      "              precision    recall  f1-score   support\n",
      "\n",
      "           0       1.00      1.00      1.00      1007\n",
      "           1       1.00      1.00      1.00       348\n",
      "           2       1.00      1.00      1.00       429\n",
      "           3       0.99      1.00      0.99       174\n",
      "           4       1.00      1.00      1.00       179\n",
      "           5       1.00      1.00      1.00       579\n",
      "           6       1.00      1.00      1.00       364\n",
      "           7       1.00      1.00      1.00       404\n",
      "           8       1.00      1.00      1.00       673\n",
      "\n",
      "    accuracy                           1.00      4157\n",
      "   macro avg       1.00      1.00      1.00      4157\n",
      "weighted avg       1.00      1.00      1.00      4157\n",
      "\n"
     ]
    }
   ],
   "source": [
    "import pandas as pd\n",
    "import seaborn as sns\n",
    "import matplotlib.pyplot as plt\n",
    "from sklearn.metrics import confusion_matrix, classification_report\n",
    "\n",
    "def print_confusion_matrix(y_true, y_pred, report=True):\n",
    "    labels = sorted(list(set(y_true)))\n",
    "    cmx_data = confusion_matrix(y_true, y_pred, labels=labels)\n",
    "    \n",
    "    df_cmx = pd.DataFrame(cmx_data, index=labels, columns=labels)\n",
    " \n",
    "    fig, ax = plt.subplots(figsize=(7, 6))\n",
    "    sns.heatmap(df_cmx, annot=True, fmt='g' ,square=False)\n",
    "    ax.set_ylim(len(set(y_true)), 0)\n",
    "    plt.show()\n",
    "    \n",
    "    if report:\n",
    "        print('Classification Report')\n",
    "        print(classification_report(y_test, y_pred))\n",
    "\n",
    "Y_pred = model.predict(X_test)\n",
    "y_pred = np.argmax(Y_pred, axis=1)\n",
    "\n",
    "print_confusion_matrix(y_test, y_pred)"
   ]
  },
  {
   "cell_type": "code",
   "execution_count": 109,
   "metadata": {},
   "outputs": [],
   "source": [
    "\n",
    "model.save(model_save_path, include_optimizer=False)"
   ]
  },
  {
   "cell_type": "code",
   "execution_count": 110,
   "metadata": {},
   "outputs": [
    {
     "name": "stdout",
     "output_type": "stream",
     "text": [
      "INFO:tensorflow:Assets written to: C:\\Users\\giang\\AppData\\Local\\Temp\\tmpiqhcvhrq\\assets\n"
     ]
    },
    {
     "name": "stderr",
     "output_type": "stream",
     "text": [
      "INFO:tensorflow:Assets written to: C:\\Users\\giang\\AppData\\Local\\Temp\\tmpiqhcvhrq\\assets\n",
      "WARNING:absl:Buffer deduplication procedure will be skipped when flatbuffer library is not properly loaded\n"
     ]
    },
    {
     "data": {
      "text/plain": [
       "8832"
      ]
     },
     "execution_count": 110,
     "metadata": {},
     "output_type": "execute_result"
    }
   ],
   "source": [
    "tflite_save_path = 'gen_model/landmark.tflite'\n",
    "\n",
    "converter = tf.lite.TFLiteConverter.from_keras_model(model)\n",
    "converter.optimizations = [tf.lite.Optimize.DEFAULT]\n",
    "tflite_quantized_model = converter.convert()\n",
    "\n",
    "open(tflite_save_path, 'wb').write(tflite_quantized_model)"
   ]
  },
  {
   "cell_type": "code",
   "execution_count": 111,
   "metadata": {},
   "outputs": [],
   "source": [
    "interpreter = tf.lite.Interpreter(model_path=tflite_save_path)\n",
    "interpreter.allocate_tensors()"
   ]
  },
  {
   "cell_type": "code",
   "execution_count": 112,
   "metadata": {},
   "outputs": [],
   "source": [
    "\n",
    "input_details = interpreter.get_input_details()\n",
    "output_details = interpreter.get_output_details()"
   ]
  },
  {
   "cell_type": "code",
   "execution_count": 113,
   "metadata": {},
   "outputs": [],
   "source": [
    "interpreter.set_tensor(input_details[0]['index'], np.array([X_test[0]]))"
   ]
  },
  {
   "cell_type": "code",
   "execution_count": 114,
   "metadata": {
    "scrolled": true
   },
   "outputs": [
    {
     "name": "stdout",
     "output_type": "stream",
     "text": [
      "CPU times: total: 0 ns\n",
      "Wall time: 0 ns\n"
     ]
    }
   ],
   "source": [
    "%%time\n",
    "interpreter.invoke()\n",
    "tflite_results = interpreter.get_tensor(output_details[0]['index'])"
   ]
  },
  {
   "cell_type": "code",
   "execution_count": 115,
   "metadata": {},
   "outputs": [
    {
     "name": "stdout",
     "output_type": "stream",
     "text": [
      "[9.9890316e-01 7.2123119e-05 2.4599673e-14 1.2018623e-17 2.0532560e-29\n",
      " 1.0070471e-03 2.0459537e-14 1.6270249e-14 1.7600973e-05]\n",
      "0\n"
     ]
    }
   ],
   "source": [
    "print(np.squeeze(tflite_results))\n",
    "print(np.argmax(np.squeeze(tflite_results)))"
   ]
  }
 ],
 "metadata": {
  "kernelspec": {
   "display_name": "Python 3",
   "language": "python",
   "name": "python3"
  },
  "language_info": {
   "codemirror_mode": {
    "name": "ipython",
    "version": 3
   },
   "file_extension": ".py",
   "mimetype": "text/x-python",
   "name": "python",
   "nbconvert_exporter": "python",
   "pygments_lexer": "ipython3",
   "version": "3.10.4"
  }
 },
 "nbformat": 4,
 "nbformat_minor": 4
}
